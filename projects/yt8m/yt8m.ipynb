{
 "cells": [
  {
   "cell_type": "markdown",
   "metadata": {},
   "source": [
    "# **Multi-Label Video Classification** <a class=\"tocSkip\"></a>\n",
    "\n",
    "## A TensorFlow 2.0 Journey, and More! <a class=\"tocSkip\"></a>\n",
    "\n",
    "*Kyle Chung*\n",
    "\n",
    "*2019-07-22 04:40:50 Last Updated*\n",
    "\n",
    "------\n",
    "\n",
    "This is a project I've done in the open project week during my training on Goole's Advanced Solutions Labs at Singapore site.\n",
    "The dataset used is [YouTue-8M](https://research.google.com/youtube8m/): a public dataset created by Google Research.\n",
    "It contains pre-processed video features in [TensorFlow TFRecord](https://www.tensorflow.org/tutorials/load_data/tf_records) format.\n",
    "\n",
    "These are the stuff I've done during the week:\n",
    "\n",
    "1. Use [TensorFlow](https://github.com/tensorflow/tensorflow) to build a baseline model for youtube video label prediction\n",
    "2. Deploy the model onto Google Cloud [AI Platform](https://cloud.google.com/ai-platform/) as a prediction service\n",
    "3. Create an asynchronous web appilication that user can input a youtube video share link and get the predicted labels\n",
    "\n",
    "This notebook is a final wrap-up of the project, with some additional follow-up improvement.\n",
    "It can also serve as a reference point for my experience on TensorFlow 2.0, which is still in its beta stage as write-up of this notebook."
   ]
  },
  {
   "cell_type": "code",
   "execution_count": 1,
   "metadata": {},
   "outputs": [
    {
     "name": "stdout",
     "output_type": "stream",
     "text": [
      "2.0.0-beta1\n"
     ]
    }
   ],
   "source": [
    "import os\n",
    "import logging\n",
    "\n",
    "import numpy as np\n",
    "import tensorflow as tf\n",
    "\n",
    "logging.getLogger(\"tensorflow\").setLevel(logging.ERROR)\n",
    "\n",
    "#  Configure array print width.\n",
    "np.set_printoptions(edgeitems=2)\n",
    "np.core.arrayprint._line_width = 160\n",
    "\n",
    "print(tf.__version__)"
   ]
  },
  {
   "cell_type": "markdown",
   "metadata": {},
   "source": [
    "## Deal with TFRecords\n",
    "\n",
    "TFRecords are an efficient way of storing data and performing batch training in TensorFlow modeling.\n",
    "The advatnage is that it can handle virtually any data type, not limited to a tabular representation.\n",
    "Of course it comes at a cost: We do need some extra engineering effort to handle data in tfrecord format.\n",
    "\n",
    "In this section we'll talk about how to read, create, and process data in tfrecord format."
   ]
  },
  {
   "cell_type": "code",
   "execution_count": 2,
   "metadata": {
    "code_folding": []
   },
   "outputs": [
    {
     "name": "stdout",
     "output_type": "stream",
     "text": [
      "-rw-rw-rw- 1 kylechung kylechung 4819410 Jul 20 07:41 data/video/train0000.tfrecord\n",
      "-rw-rw-rw- 1 kylechung kylechung 4729969 Jul 20 06:49 data/video/train0001.tfrecord\n",
      "-rw-rw-rw- 1 kylechung kylechung 4763009 Jul 20 07:54 data/video/train0002.tfrecord\n"
     ]
    }
   ],
   "source": [
    "%%bash\n",
    "# List some files from youtube-8m video-level training data.\n",
    "ls -d -l data/video/*  | grep \"train.*tfrecord$\" | head -n3"
   ]
  },
  {
   "cell_type": "code",
   "execution_count": 3,
   "metadata": {},
   "outputs": [],
   "source": [
    "tfrec_file = \"data/video/train0001.tfrecord\""
   ]
  },
  {
   "cell_type": "markdown",
   "metadata": {},
   "source": [
    "### Inspection of TFRecords\n",
    "\n",
    "To inspect a given tfrecord without any schema, it is best to take a single example and print its content in plain text.\n",
    "Since all kinds of features are serialized to byte strings in tfrecord, the inspection is agnostic to the original feature format.\n",
    "In TF 2.0 the data handling framework has been unified to the `tf.data` API."
   ]
  },
  {
   "cell_type": "code",
   "execution_count": 4,
   "metadata": {
    "limit_output": 500,
    "scrolled": false
   },
   "outputs": [
    {
     "name": "stdout",
     "output_type": "stream",
     "text": [
      "features {\n",
      "  feature {\n",
      "    key: \"id\"\n",
      "    value {\n",
      "      bytes_list {\n",
      "        value: \"2vab\"\n",
      "      }\n",
      "    }\n",
      "  }\n",
      "  feature {\n",
      "    key: \"labels\"\n",
      "    value {\n",
      "      int64_list {\n",
      "        value: 14\n",
      "      }\n",
      "    }\n",
      "  }\n",
      "  feature {\n",
      "    key: \"mean_audio\"\n",
      "    value {\n",
      "      float_list {\n",
      "        value: 0.4810151159763336\n",
      "        value: -0.1483372300863266\n",
      "        value: -0.6934748888015747\n",
      "        value: 1.2363330125808716\n",
      "        value: 0.53005450963974\n",
      "        value: 1.1766775846481323\n",
      "        value: -1.10115957\n"
     ]
    }
   ],
   "source": [
    "# Create a dataset iterator of tfrecords.\n",
    "rec_iter = tf.data.TFRecordDataset(tfrec_file)\n",
    "\n",
    "# Take just one example.\n",
    "# The return object is a Tensor of a single byte string.\n",
    "rec_ex = next(rec_iter.__iter__())\n",
    "\n",
    "# To parse it we'd like to get rid of the Tensor wrapping,\n",
    "# leaving the byte string alone.\n",
    "rec_ex = rec_ex.numpy()\n",
    "example = tf.train.Example()  # For sequence examples use tf.train.SequenceExample.\n",
    "example.ParseFromString(rec_ex)\n",
    "\n",
    "# The parsed result will be a human-readable protobuf.\n",
    "print(str(example)[:500])  # Truncated to print less."
   ]
  },
  {
   "cell_type": "markdown",
   "metadata": {},
   "source": [
    "### Parse TFRecords with Schema\n",
    "\n",
    "To really make use of data stored in tfrecords, we need to specify a schema to parse the underlying protobuf.\n",
    "We use `tf.io.FixedLenFeature` and `tf.io.VarLenFeature` to specify the nature of the features to be parsed, including its length, type, and dimension."
   ]
  },
  {
   "cell_type": "code",
   "execution_count": 5,
   "metadata": {},
   "outputs": [
    {
     "name": "stdout",
     "output_type": "stream",
     "text": [
      "{'id': \"2vab\",\n",
      " 'labels': 'SparseTensor(indices=[[0]], values=[14], shape=[1])',\n",
      " 'mean_audio': [0.481015116 -0.14833723 -0.693474889 ... 0.0226273146 0.0394227207 0.36170435],\n",
      " 'mean_rgb': [0.388561159 -1.41187453 -0.171391308 ... 0.157069772 -0.233502612 -0.605695128]}\r\n"
     ]
    }
   ],
   "source": [
    "# Specify feature spec.\n",
    "video_feature_spec = {\n",
    "    \"id\": tf.io.FixedLenFeature([], tf.string),\n",
    "    \"labels\": tf.io.VarLenFeature(tf.int64),\n",
    "    \"mean_rgb\": tf.io.FixedLenFeature((1024,), tf.float32),\n",
    "    \"mean_audio\": tf.io.FixedLenFeature((128,), tf.float32)\n",
    "}\n",
    "\n",
    "# Take another example in the tfrecords.\n",
    "rec_ex = next(rec_iter.__iter__())\n",
    "\n",
    "# Parse with feature spec.\n",
    "# To parse multiple examples as a batch, use tf.io.parse_example instead.\n",
    "parsed_example = tf.io.parse_single_example(rec_ex, features=video_feature_spec)\n",
    "\n",
    "# The result is a dict of feature Tensors.\n",
    "tf.print(parsed_example)"
   ]
  },
  {
   "cell_type": "markdown",
   "metadata": {},
   "source": [
    "### Making Input Function for Modeling\n",
    "\n",
    "For training using custom `tf.estimator.Estimator` we need a so-called input function to handle the data pipeline.\n",
    "An input function takes the source files, convert records into `tf.data.Dataset` and apply necessary transofrmation.\n",
    "Conventionally the resulting dataset will return a tuple of features and labels, where the features are warpped in a dict of tensors and labels are purely a tensor.\n",
    "\n",
    "This time we will use [Feature Column](https://www.tensorflow.org/guide/feature_columns) to define our features, the corresponding feature spec can be derived from feature columns.\n",
    "\n",
    "One special treatment is required to encode the label tensor.\n",
    "Since the task is a multi-label classification, meaning that each example can have more than one correct labels, we need to transform the label tensor into a dense multi-hot encoding representation in order to perform loss calculation."
   ]
  },
  {
   "cell_type": "code",
   "execution_count": 6,
   "metadata": {},
   "outputs": [
    {
     "name": "stdout",
     "output_type": "stream",
     "text": [
      "{'labels': VarLenFeature(dtype=tf.int64),\n",
      " 'mean_audio': FixedLenFeature(shape=(128,), dtype=tf.float32, default_value=None),\n",
      " 'mean_rgb': FixedLenFeature(shape=(1024,), dtype=tf.float32, default_value=None)}\r\n"
     ]
    }
   ],
   "source": [
    "from tensorflow import feature_column as fc\n",
    "\n",
    "# Define feature columns.\n",
    "# We will ignore the id column since we don't need it.\n",
    "feat_col_video = [\n",
    "    fc.numeric_column(key=\"mean_rgb\", shape=(1024,), dtype=tf.float32),\n",
    "    fc.numeric_column(key=\"mean_audio\", shape=(128,), dtype=tf.float32),\n",
    "    fc.indicator_column(fc.categorical_column_with_identity(\n",
    "        key=\"labels\", num_buckets=3862))\n",
    "]\n",
    "\n",
    "# Derive feature spec from feature columns.\n",
    "feat_spec_video = fc.make_parse_example_spec(feat_col_video)\n",
    "tf.print(feat_spec_video)"
   ]
  },
  {
   "cell_type": "code",
   "execution_count": 7,
   "metadata": {},
   "outputs": [],
   "source": [
    "from functools import partial\n",
    "\n",
    "multi_hot_encoder = tf.keras.layers.DenseFeatures(feat_col_video[-1])\n",
    "\n",
    "def _parse(examples, spec, batch_size, n_class, multi_hot_y):\n",
    "    features = tf.io.parse_example(examples, features=spec)\n",
    "    labels = features.pop(\"labels\")\n",
    "    if multi_hot_y:\n",
    "        labels = multi_hot_encoder({\"labels\": labels})\n",
    "    return features, labels\n",
    "\n",
    "def input_fn(infiles, spec, batch_size, n_class, multi_hot_y=True, mode=tf.estimator.ModeKeys.TRAIN):\n",
    "    dataset = tf.data.TFRecordDataset(tf.io.gfile.glob(infiles))\n",
    "    if mode == tf.estimator.ModeKeys.TRAIN:\n",
    "        dataset = dataset.shuffle(buffer_size=1000).repeat(count=None)\n",
    "        dataset = dataset.batch(batch_size, drop_remainder=True)\n",
    "    else:\n",
    "        dataset = dataset.batch(batch_size, drop_remainder=False)\n",
    "    dataset = dataset.map(partial(_parse, spec=spec, batch_size=batch_size,\n",
    "                                  n_class=n_class, multi_hot_y=multi_hot_y))\n",
    "    dataset = dataset.prefetch(batch_size)\n",
    "    return dataset"
   ]
  },
  {
   "cell_type": "code",
   "execution_count": 8,
   "metadata": {},
   "outputs": [
    {
     "name": "stdout",
     "output_type": "stream",
     "text": [
      "======Feature Dict======\n",
      "{'mean_audio': <tf.Tensor: id=146, shape=(32, 128), dtype=float32, numpy=\n",
      "array([[-1.6872855 ,  1.997464  , ...,  1.6208844 , -1.6786798 ],\n",
      "       [ 0.8285996 , -0.58513963, ..., -0.2040619 ,  0.17910004],\n",
      "       ...,\n",
      "       [-0.39937705, -0.93784577, ...,  0.6170562 , -0.6303761 ],\n",
      "       [-0.35025287,  0.35353798, ...,  0.8385576 ,  0.5330936 ]],\n",
      "      dtype=float32)>, 'mean_rgb': <tf.Tensor: id=147, shape=(32, 1024), dtype=float32, numpy=\n",
      "array([[-0.05144676,  0.2870064 , ...,  0.48885825,  0.1084661 ],\n",
      "       [-0.03612004,  0.99390876, ..., -0.20461038, -0.00935465],\n",
      "       ...,\n",
      "       [-0.27052552,  0.7982887 , ...,  0.21574901, -0.03560487],\n",
      "       [-0.6038999 , -1.43956   , ..., -0.10758619,  0.4874465 ]],\n",
      "      dtype=float32)>}\n",
      "======Label Tensor:======\n",
      "tf.Tensor(\n",
      "[[0. 0. ... 0. 0.]\n",
      " [0. 0. ... 0. 0.]\n",
      " ...\n",
      " [0. 0. ... 0. 0.]\n",
      " [1. 1. ... 0. 0.]], shape=(32, 3862), dtype=float32)\n"
     ]
    }
   ],
   "source": [
    "# Test the input function.\n",
    "train_files = \"data/video/train*\"\n",
    "dataset = input_fn(train_files, spec=feat_spec_video, batch_size=32, n_class=3862)\n",
    "\n",
    "# Dataset is iterable.\n",
    "for x, y in dataset:\n",
    "    print(\"======Feature Dict======\")\n",
    "    print(x)\n",
    "    print(\"======Label Tensor:======\")\n",
    "    print(y)\n",
    "    break"
   ]
  },
  {
   "cell_type": "markdown",
   "metadata": {},
   "source": [
    "If we don't do multi-hot dense encoding, the resulting label tensor will be a sparse tensor recording the label indices with variable length.\n",
    "We can print also its dense representation for a clear view:"
   ]
  },
  {
   "cell_type": "code",
   "execution_count": 9,
   "metadata": {},
   "outputs": [
    {
     "name": "stdout",
     "output_type": "stream",
     "text": [
      "tf.Tensor(\n",
      "[[  2   7 252 464   0   0   0]\n",
      " [  3   4   6   9  10   0   0]\n",
      " [  2   7 402   0   0   0   0]\n",
      " [ 11  20  22  29  32   0   0]\n",
      " [  5  16   0   0   0   0   0]], shape=(5, 7), dtype=int64)\n"
     ]
    }
   ],
   "source": [
    "dataset_test = input_fn(train_files, spec=feat_spec_video,\n",
    "                        batch_size=32, n_class=3862, multi_hot_y=False)\n",
    "for x_test, y_test in dataset_test:\n",
    "    break\n",
    "\n",
    "print(tf.sparse.to_dense(y_test)[:5])"
   ]
  },
  {
   "cell_type": "markdown",
   "metadata": {},
   "source": [
    "### Write TFRecords\n",
    "\n",
    "In this project we don't really need to write TFRecords.\n",
    "Since the only operation needed when doing model inference is covered by the starter code's feature extraction script.\n",
    "\n",
    "For details about writing TFRecords one can refer to the [official document](https://www.tensorflow.org/tutorials/load_data/tf_records#write_the_tfrecord_file)."
   ]
  },
  {
   "cell_type": "markdown",
   "metadata": {},
   "source": [
    "## Debug Network Layers\n",
    "\n",
    "We will use `tf.keras.layers` functional API to construct our model.\n",
    "Before we build the model, it is good to first observe how feature columns are parsed into network layers.\n",
    "We can use `tf.keras.layers.DenseFeatures` to create a layer from a list of feature columns.\n",
    "Essentially what it does is just to concatenate the vector to form a single tensor ready for connection to subsequent hidden layers.\n",
    "\n",
    "### Feed Forward"
   ]
  },
  {
   "cell_type": "code",
   "execution_count": 10,
   "metadata": {},
   "outputs": [
    {
     "name": "stdout",
     "output_type": "stream",
     "text": [
      "tf.Tensor(\n",
      "[[-1.6872855   1.997464   ...  0.48885825  0.1084661 ]\n",
      " [ 0.8285996  -0.58513963 ... -0.20461038 -0.00935465]\n",
      " ...\n",
      " [-0.39937705 -0.93784577 ...  0.21574901 -0.03560487]\n",
      " [-0.35025287  0.35353798 ... -0.10758619  0.4874465 ]], shape=(32, 1152), dtype=float32)\n"
     ]
    }
   ],
   "source": [
    "# Specify feature columns that only contains features but not labels.\n",
    "xname = [\"mean_rgb\", \"mean_audio\"]\n",
    "feat_col_x = [col for col in feat_col_video if col.name in xname]\n",
    "\n",
    "# Create a layer out of feature columns.\n",
    "input_layer = tf.keras.layers.DenseFeatures(feat_col_x)\n",
    "\n",
    "# Feed the layer with one batch of features.\n",
    "print(input_layer(x))"
   ]
  },
  {
   "cell_type": "markdown",
   "metadata": {},
   "source": [
    "Let's create a final output layer to have number of neurons equal to number of classes, which is 3862 in this dataset.\n",
    "And we feed the input layer derived from feature columns to this output layer to arrive the model output."
   ]
  },
  {
   "cell_type": "code",
   "execution_count": 11,
   "metadata": {},
   "outputs": [
    {
     "name": "stdout",
     "output_type": "stream",
     "text": [
      "tf.Tensor(\n",
      "[[0.5560694  0.5394199  ... 0.6719381  0.43064767]\n",
      " [0.48574066 0.48891518 ... 0.5101847  0.48729917]\n",
      " ...\n",
      " [0.40846935 0.5233854  ... 0.43280134 0.42753273]\n",
      " [0.572879   0.5014741  ... 0.64102185 0.53809464]], shape=(32, 3862), dtype=float32)\n"
     ]
    }
   ],
   "source": [
    "final_layer = tf.keras.layers.Dense(3862, activation=\"sigmoid\")\n",
    "\n",
    "# Feed-forward.\n",
    "logits = input_layer(x)\n",
    "output = final_layer(logits)\n",
    "\n",
    "# The network output.\n",
    "print(output)"
   ]
  },
  {
   "cell_type": "markdown",
   "metadata": {},
   "source": [
    "To verify what's going on here, we can extract the initialized weights and biases from the final layer.\n",
    "The output should be nothing more than just a sigmoid applying on a dot product of the input and final layer.\n",
    "Sp if we manually implement the matrix operation, the result shoudl coincide with that of using `tf.keras.layers`."
   ]
  },
  {
   "cell_type": "code",
   "execution_count": 12,
   "metadata": {},
   "outputs": [
    {
     "name": "stdout",
     "output_type": "stream",
     "text": [
      "tf.Tensor(\n",
      "[[0.5560694  0.5394199  ... 0.6719381  0.43064767]\n",
      " [0.48574066 0.48891518 ... 0.5101847  0.48729917]\n",
      " ...\n",
      " [0.40846935 0.5233854  ... 0.43280134 0.42753273]\n",
      " [0.572879   0.5014741  ... 0.64102185 0.53809464]], shape=(32, 3862), dtype=float32)\n"
     ]
    }
   ],
   "source": [
    "# By default the bias is zero-initialized,\n",
    "# so it won't affect our comparison before the model start to learn.\n",
    "weights, biases = final_layer.get_weights()\n",
    "output_check = tf.sigmoid(tf.matmul(logits, weights) + biases)\n",
    "print(output_check)"
   ]
  },
  {
   "cell_type": "markdown",
   "metadata": {},
   "source": [
    "### Loss\n",
    "\n",
    "Now we have our output we can calculate the loss comparing to the label.\n",
    "There are lots of high level API for loss calculation in the `tf.keras.losses` module.\n",
    "Let's examine the API for binary cross entropy."
   ]
  },
  {
   "cell_type": "code",
   "execution_count": 13,
   "metadata": {},
   "outputs": [
    {
     "name": "stdout",
     "output_type": "stream",
     "text": [
      "0.707195\n"
     ]
    }
   ],
   "source": [
    "bce = tf.keras.losses.BinaryCrossentropy(from_logits=False)\n",
    "print(bce(y, output).numpy())"
   ]
  },
  {
   "cell_type": "markdown",
   "metadata": {},
   "source": [
    "The cross entropy is defined as:\n",
    "\n",
    "$$\n",
    "\\mbox{Cross Entropy Loss} = - \\sum_{i=1}^N y_i\\ln(q_i) + (1 - y_i)\\ln(1 - q_i),\n",
    "$$\n",
    "\n",
    "where $q_i$ is the model predicted probability for the $i$-th example.\n",
    "\n",
    "For multi-label case the API simply apply the calculation across both batch and label dimension.\n",
    "That is, the summation is over both number of examples and number of labels.\n",
    "To verify the result, we can manually code the calculation:"
   ]
  },
  {
   "cell_type": "code",
   "execution_count": 14,
   "metadata": {},
   "outputs": [
    {
     "name": "stdout",
     "output_type": "stream",
     "text": [
      "0.7071952\n"
     ]
    }
   ],
   "source": [
    "# This is not numerically stable but we don't mind for a quick dirty check.\n",
    "z = y * tf.math.log(output) + (1 - y) * tf.math.log(1 - output)\n",
    "print(tf.reduce_mean(-z).numpy())"
   ]
  },
  {
   "cell_type": "markdown",
   "metadata": {},
   "source": [
    "The resulting number won't be exactly the same due to smoothing done by default in the API to avoid numerical instability.\n",
    "\n",
    "We can also use a lower level API from the `tf.keras.backend` module to gain more control on how we'd like to aggregate individual losses.\n",
    "For example, we may want to calculate instead the [Hamming Loss](https://en.wikipedia.org/wiki/Multi-label_classification#Statistics_and_evaluation_metrics) which suits more for a multi-label scenario.\n",
    "Essentially we are still calculating individual cross entropy, but will sum over the label dimension first, then do the averagging to arrive the final loss value."
   ]
  },
  {
   "cell_type": "code",
   "execution_count": 15,
   "metadata": {},
   "outputs": [
    {
     "name": "stdout",
     "output_type": "stream",
     "text": [
      "2731.1877\n"
     ]
    }
   ],
   "source": [
    "# Retain batch_size x n_class dimension.\n",
    "losses = tf.keras.backend.binary_crossentropy(y, output, from_logits=False)\n",
    "hamming_loss = tf.reduce_mean(tf.reduce_sum(-z, axis=1))\n",
    "print(hamming_loss.numpy())"
   ]
  },
  {
   "cell_type": "markdown",
   "metadata": {},
   "source": [
    "### Evaluation Metrics\n",
    "\n",
    "Evaluation metric is usually different from loss.\n",
    "The former is used to guide the model in how weights should be updated, while the latter is the final criteria to judge the performance of a trained model. (Of course the ideal case is to align the two but for practical reason this is not always doable.)\n",
    "\n",
    "The `tf.keras.metrics` module contains lots of built-in classifcal evaluation metrics at our disposal.\n",
    "To calculate the metric given a batch:"
   ]
  },
  {
   "cell_type": "code",
   "execution_count": 16,
   "metadata": {},
   "outputs": [
    {
     "data": {
      "text/plain": [
       "0.00097288884"
      ]
     },
     "execution_count": 16,
     "metadata": {},
     "output_type": "execute_result"
    }
   ],
   "source": [
    "# Use precision as an example.\n",
    "# The result is really bad since we haven't started to train the model.\n",
    "# All weights are just randomly initialized.\n",
    "m = tf.keras.metrics.Precision()\n",
    "m.update_state(y_true=y, y_pred=output)\n",
    "m.result().numpy()"
   ]
  },
  {
   "cell_type": "markdown",
   "metadata": {},
   "source": [
    "`tf.keras.metrics.Metric` is special in that it is *stateful*, so can be used to update the metric by batch.\n",
    "This fits well with the batching data pipeline adopted by the `tensorflow` neural network learning framework."
   ]
  },
  {
   "cell_type": "markdown",
   "metadata": {},
   "source": [
    "## Build Models\n",
    "\n",
    "For model not very complicated and customized, `tf.keras.models` API is a very fast but also flexible way for prototyping.\n",
    "We will simply connect the input layer to output layer, essentially build K-logistic regression model for K labels independently.\n",
    "This is a classical baseline model for a multi-label learning task."
   ]
  },
  {
   "cell_type": "code",
   "execution_count": 17,
   "metadata": {},
   "outputs": [],
   "source": [
    "train_files = \"data/video/train*\"\n",
    "valid_files = \"data/video/valid*\"\n",
    "\n",
    "train_dataset = input_fn(train_files, spec=feat_spec_video,\n",
    "                         batch_size=1024, n_class=3862)\n",
    "valid_dataset = input_fn(valid_files, spec=feat_spec_video,\n",
    "                         batch_size=1024, n_class=3862,\n",
    "                         mode=tf.estimator.ModeKeys.EVAL)\n",
    "\n",
    "l2_reg = tf.keras.regularizers.l2(1e-8)\n",
    "model = tf.keras.models.Sequential(name=\"baseline\")\n",
    "model.add(tf.keras.layers.DenseFeatures(feat_col_x, name=\"input\"))\n",
    "model.add(tf.keras.layers.Dense(3862, activation=\"sigmoid\", name=\"output\",\n",
    "                                kernel_regularizer=l2_reg))\n",
    "model.compile(\n",
    "    optimizer=\"adam\",\n",
    "    loss=\"binary_crossentropy\",\n",
    "    metrics=[\n",
    "        tf.keras.metrics.Precision(),\n",
    "        tf.keras.metrics.Recall()\n",
    "    ]\n",
    ")"
   ]
  },
  {
   "cell_type": "markdown",
   "metadata": {},
   "source": [
    "To summarize the network architecture we can train a dummy step in order for the model to figure out the input dimension (since we don't bother define them in advance)."
   ]
  },
  {
   "cell_type": "code",
   "execution_count": 18,
   "metadata": {},
   "outputs": [
    {
     "name": "stdout",
     "output_type": "stream",
     "text": [
      "Model: \"baseline\"\n",
      "_________________________________________________________________\n",
      "Layer (type)                 Output Shape              Param #   \n",
      "=================================================================\n",
      "input (DenseFeatures)        multiple                  0         \n",
      "_________________________________________________________________\n",
      "output (Dense)               multiple                  4452886   \n",
      "=================================================================\n",
      "Total params: 4,452,886\n",
      "Trainable params: 4,452,886\n",
      "Non-trainable params: 0\n",
      "_________________________________________________________________\n"
     ]
    }
   ],
   "source": [
    "model.fit(dataset, epochs=1, steps_per_epoch=1, verbose=0)\n",
    "model.summary()"
   ]
  },
  {
   "cell_type": "code",
   "execution_count": 19,
   "metadata": {},
   "outputs": [
    {
     "name": "stdout",
     "output_type": "stream",
     "text": [
      "100/100 [==============================] - 2s 21ms/step - loss: 0.6682 - precision_1: 0.0012 - recall: 0.6128 - val_loss: 0.6328 - val_precision_1: 0.0016 - val_recall: 0.6514\n"
     ]
    },
    {
     "data": {
      "text/plain": [
       "<tensorflow.python.keras.callbacks.History at 0x203ed72bc50>"
      ]
     },
     "execution_count": 19,
     "metadata": {},
     "output_type": "execute_result"
    }
   ],
   "source": [
    "# Test with more steps, also with validation.\n",
    "model.fit(dataset, validation_data=valid_dataset, epochs=1,\n",
    "          steps_per_epoch=100, validation_steps=10)"
   ]
  },
  {
   "cell_type": "markdown",
   "metadata": {},
   "source": [
    "### Use Tensorboard with Keras Model\n",
    "\n",
    "To use `tensorboard` for keras model on tracking the model loss and evaluation metrics, we need to explicitly implement a callback function and pass it to the `fit` method."
   ]
  },
  {
   "cell_type": "code",
   "execution_count": 20,
   "metadata": {},
   "outputs": [],
   "source": [
    "%%bash\n",
    "# Create directory to save pre-trained model tb events.\n",
    "mkdir -p models"
   ]
  },
  {
   "cell_type": "code",
   "execution_count": 21,
   "metadata": {},
   "outputs": [
    {
     "data": {
      "text/plain": [
       "<tensorflow.python.keras.callbacks.History at 0x203f310cda0>"
      ]
     },
     "execution_count": 21,
     "metadata": {},
     "output_type": "execute_result"
    }
   ],
   "source": [
    "tensorboard_callback = tf.keras.callbacks.TensorBoard()  # Default to ./logs.\n",
    "model.fit(dataset, validation_data=valid_dataset, epochs=1,\n",
    "          steps_per_epoch=100, validation_steps=10,\n",
    "          callbacks=[tensorboard_callback],\n",
    "          verbose=0)"
   ]
  },
  {
   "cell_type": "markdown",
   "metadata": {},
   "source": [
    "Then we can run TensorBoard as usual:\n",
    "\n",
    "```sh\n",
    "tensorboard --logdir ./logs\n",
    "```"
   ]
  },
  {
   "cell_type": "markdown",
   "metadata": {},
   "source": [
    "### Custom Loss Function\n",
    "\n",
    "We'd like to use Hamming Loss, optionally with class weight balancing since the labels are heavily skewed in this dataset.\n",
    "The class weight to fully re-balance the training data distribution for class $i$ is defined as:\n",
    "\n",
    "$$\n",
    "\\mbox{Class Weight i} = \\frac{\\mbox{No. of Samples}}{\\mbox{No. of Classes} \\times \\mbox{No. of Class i}}\n",
    "$$\n"
   ]
  },
  {
   "cell_type": "code",
   "execution_count": 22,
   "metadata": {},
   "outputs": [],
   "source": [
    "import pandas as pd\n",
    "\n",
    "vocab_file = \"data/vocabulary.csv\"\n",
    "\n",
    "def calc_class_weight(infile, scale=1):\n",
    "    \"\"\"Calculate class weight to re-balance label distribution.\n",
    "    The class weight for class i (w_i) is determined by:\n",
    "    w_i = total no. samples / (n_class * count(class i))\n",
    "    \"\"\"\n",
    "    vocab = pd.read_csv(infile).sort_values(\"Index\")\n",
    "    cnt = vocab[\"TrainVideoCount\"]\n",
    "    w = cnt.sum() / (len(vocab) * cnt)\n",
    "    w = w.values.astype(np.float32)\n",
    "    return pow(w, scale)\n",
    "\n",
    "class_weights = calc_class_weight(vocab_file, scale=2)\n",
    "\n",
    "def hamming_loss(y_true, y_pred):\n",
    "    loss = tf.keras.backend.binary_crossentropy(y_true, y_pred, from_logits=False)\n",
    "    return tf.reduce_mean(tf.reduce_sum(loss, axis=1))\n",
    "\n",
    "def weighted_hamming_loss(y_true, y_pred):\n",
    "    loss = tf.keras.backend.binary_crossentropy(y_true, y_pred, from_logits=False)\n",
    "    loss *= class_weights  # By-element product broadcast over rows.\n",
    "    return tf.reduce_mean(tf.reduce_sum(loss, axis=1))"
   ]
  },
  {
   "cell_type": "markdown",
   "metadata": {},
   "source": [
    "### Custom Evaluation Metrics\n",
    "\n",
    "There are two ways to supply custom evaluation metrics for a `keras` model.\n",
    "The first approach is to simply pass a function calculating the metric given `y_true` and `y_pred`, just similar as what we did for the custom loss function.\n",
    "This approach, however, has a flaw that it only calculates by-batch metrics.\n",
    "For a metric that will cumulate the results from multiple batches from the validation dataset,\n",
    "it is best to implement a stateful metric class as a subclass of `tf.keras.metrics.Metric`.\n",
    "\n",
    "For this multi-label task we'd like to imeplemnt a metric to health-check number of predicted classes for our model.\n",
    "It should not tru to predict too many labels on average since the overall average number of labels is only 3.\n",
    "\n",
    "We will also implement a \"Hit@One\" metric that calculate how many examples we have the opt predicted class to be a correct prediction."
   ]
  },
  {
   "cell_type": "code",
   "execution_count": 23,
   "metadata": {},
   "outputs": [],
   "source": [
    "from tensorflow.python.ops import init_ops\n",
    "\n",
    "class AverageNClass(tf.keras.metrics.Metric):\n",
    "\n",
    "    def __init__(self, name=\"average_n_class\", **kwargs):\n",
    "        super(tf.keras.metrics.Metric, self).__init__(name=name, **kwargs)\n",
    "        self.n_example = self.add_weight(\n",
    "            \"n_example\",\n",
    "            shape=(),\n",
    "            dtype=tf.float32,\n",
    "            initializer=init_ops.zeros_initializer)\n",
    "        self.n_predicted_class = self.add_weight(\n",
    "            \"n_predicted_class\",\n",
    "            shape=(),\n",
    "            dtype=tf.float32,\n",
    "            initializer=init_ops.zeros_initializer)\n",
    "        \n",
    "    def update_state(self, y_true, y_pred, **kwargs):\n",
    "        # Accumulate sample size.\n",
    "        batch_size = tf.cast(len(y_true), tf.float32)\n",
    "        self.n_example.assign_add(batch_size)\n",
    "        # Accumulate number of predicted classes.\n",
    "        batch_n_class = tf.reduce_sum(tf.cast(y_pred > .5, tf.float32))\n",
    "        self.n_predicted_class.assign_add(batch_n_class)\n",
    "\n",
    "    def result(self):\n",
    "        return self.n_predicted_class / self.n_example\n",
    "\n",
    "class HitAtOne(tf.keras.metrics.Metric):\n",
    "\n",
    "    def __init__(self, name=\"hit_at_one\", **kwargs):\n",
    "        super(tf.keras.metrics.Metric, self).__init__(name=name, **kwargs)\n",
    "        self.n_example = self.add_weight(\n",
    "            \"n_example\",\n",
    "            shape=(),\n",
    "            dtype=tf.float32,\n",
    "            initializer=init_ops.zeros_initializer)\n",
    "        self.hit_at_one = self.add_weight(\n",
    "            \"hit_at_one\",\n",
    "            shape=(),\n",
    "            dtype=tf.float32,\n",
    "            initializer=init_ops.zeros_initializer)\n",
    "        \n",
    "    def update_state(self, y_true, y_pred, **kwargs):\n",
    "        # Accumulate sample size.\n",
    "        batch_size = tf.cast(len(y_true), tf.float32)\n",
    "        self.n_example.assign_add(batch_size)\n",
    "        # Count number of hit@one.\n",
    "        tops = tf.math.argmax(y_pred, axis=1, output_type=tf.int32)\n",
    "        top_idx = tf.stack([tf.range(len(y_true)), tops], axis=1)\n",
    "        hits = tf.gather_nd(y_true, indices=top_idx)\n",
    "        self.hit_at_one.assign_add(tf.reduce_sum(hits))\n",
    "\n",
    "    def result(self):\n",
    "        return self.hit_at_one / self.n_example"
   ]
  },
  {
   "cell_type": "code",
   "execution_count": 24,
   "metadata": {},
   "outputs": [],
   "source": [
    "def create_baseline_model(name, loss_fn, feat_cols):\n",
    "    l2_reg = tf.keras.regularizers.l2(1e-8)\n",
    "    model = tf.keras.models.Sequential(name=\"baseline_\" + name)\n",
    "    model.add(tf.keras.layers.DenseFeatures(feat_col_x))\n",
    "    model.add(tf.keras.layers.Dense(3862, activation=\"sigmoid\", kernel_regularizer=l2_reg))\n",
    "    model.compile(\n",
    "        optimizer=\"adam\",\n",
    "        loss=loss_fn,\n",
    "        metrics=[\n",
    "            tf.keras.metrics.Precision(),\n",
    "            tf.keras.metrics.Recall(),\n",
    "            AverageNClass(),\n",
    "            HitAtOne()\n",
    "        ]\n",
    "    )\n",
    "    return model"
   ]
  },
  {
   "cell_type": "markdown",
   "metadata": {},
   "source": [
    "### Baseline Benchmark\n",
    "\n",
    "Let's benchmark models with different losses."
   ]
  },
  {
   "cell_type": "code",
   "execution_count": null,
   "metadata": {},
   "outputs": [
    {
     "name": "stdout",
     "output_type": "stream",
     "text": [
      "Epoch 1/5\n",
      "3000/3000 [==============================] - 373s 124ms/step - loss: 0.2678 - precision_2: 0.0046 - recall_1: 0.6202 - average_n_class: 522.0993 - hit_at_one: 0.6858 - val_loss: 0.0983 - val_precision_2: 0.3321 - val_recall_1: 0.4850 - val_average_n_class: 4.3865 - val_hit_at_one: 0.7691\n",
      "Epoch 2/5\n",
      "3000/3000 [==============================] - 365s 122ms/step - loss: 0.0522 - precision_2: 0.5380 - recall_1: 0.4817 - average_n_class: 2.8471 - hit_at_one: 0.7750 - val_loss: 0.0249 - val_precision_2: 0.8653 - val_recall_1: 0.4939 - val_average_n_class: 1.7143 - val_hit_at_one: 0.7889\n",
      "Epoch 3/5\n",
      "3000/3000 [==============================] - 356s 119ms/step - loss: 0.0146 - precision_2: 0.8670 - recall_1: 0.5001 - average_n_class: 1.7371 - hit_at_one: 0.7944 - val_loss: 0.0080 - val_precision_2: 0.8697 - val_recall_1: 0.5258 - val_average_n_class: 1.8157 - val_hit_at_one: 0.8053\n",
      "Epoch 4/5\n",
      "1735/3000 [================>.............] - ETA: 2:19 - loss: 0.0061 - precision_2: 0.8688 - recall_1: 0.5299 - average_n_class: 1.8363 - hit_at_one: 0.8087"
     ]
    }
   ],
   "source": [
    "model_1_dir = os.path.join(\"models\", \"loss_experiments\", \"entropy\")\n",
    "model_1 = create_baseline_model(\"entropy\", loss_fn=tf.keras.losses.binary_crossentropy, feat_cols=feat_col_x)\n",
    "tensorboard_callback = tf.keras.callbacks.TensorBoard(log_dir=model_1_dir)\n",
    "model_1.fit(train_dataset, validation_data=valid_dataset,\n",
    "            epochs=5, steps_per_epoch=3000, validation_steps=100,\n",
    "            callbacks=[tensorboard_callback])"
   ]
  },
  {
   "cell_type": "code",
   "execution_count": null,
   "metadata": {},
   "outputs": [],
   "source": [
    "model_2_dir = os.path.join(\"models\", \"loss_experiments\", \"hamming\")\n",
    "model_2 = create_baseline_model(\"hamming\", loss_fn=hamming_loss, feat_cols=feat_col_x)\n",
    "tensorboard_callback = tf.keras.callbacks.TensorBoard(log_dir=model_2_dir)\n",
    "model_2.fit(train_dataset, validation_data=valid_dataset,\n",
    "            epochs=5, steps_per_epoch=3000, validation_steps=100,\n",
    "            callbacks=[tensorboard_callback])"
   ]
  },
  {
   "cell_type": "code",
   "execution_count": null,
   "metadata": {},
   "outputs": [],
   "source": [
    "model_3_dir = os.path.join(\"models\", \"loss_experiments\", \"weighted_hamming\")\n",
    "model_3 = create_baseline_model(\"weighted_hamming\", loss_fn=weighted_hamming_loss, feat_cols=feat_col_x)\n",
    "tensorboard_callback = tf.keras.callbacks.TensorBoard(log_dir=model_3_dir)\n",
    "model_3.fit(train_dataset, validation_data=valid_dataset,\n",
    "            epochs=5, steps_per_epoch=3000, validation_steps=100,\n",
    "            callbacks=[tensorboard_callback])"
   ]
  },
  {
   "cell_type": "markdown",
   "metadata": {},
   "source": [
    "### Model Saving\n",
    "\n",
    "There are (confusingly) 3 different ways to save a `tensorflow` pre-trained model, all resulting in different formats.\n",
    "\n",
    "#### Saving the Model Weights as Checkpoint Files\n",
    "\n",
    "We can use a checkpoint callback functions to periodically write out the model weights."
   ]
  },
  {
   "cell_type": "code",
   "execution_count": null,
   "metadata": {},
   "outputs": [],
   "source": [
    "model_test_dir = os.path.join(\"models\", \"save_experiments\", \"ckp\", \"checkpoint\")\n",
    "\n",
    "cp_callback = tf.keras.callbacks.ModelCheckpoint(\n",
    "    model_test_dir, save_weights_only=True,\n",
    "    load_weights_on_restart=True, verbose=1)\n",
    "\n",
    "model_test = create_baseline_model(\"save_test\", loss_fn=weighted_hamming_loss, feat_cols=feat_col_x)\n",
    "model_test.fit(train_dataset, validation_data=valid_dataset,\n",
    "               epochs=1, steps_per_epoch=10, validation_steps=10,\n",
    "               callbacks=[cp_callback], verbose=0)"
   ]
  },
  {
   "cell_type": "code",
   "execution_count": null,
   "metadata": {},
   "outputs": [],
   "source": [
    "%%bash\n",
    "ls -l models/save_experiments/ckp"
   ]
  },
  {
   "cell_type": "markdown",
   "metadata": {},
   "source": [
    "For large model weights will be sharded; hence there will be a index file to locate the shard for weights.\n",
    "The load back the weights we will use the `tf.keras.Model.load_weights` API.\n",
    "The model must have the same architecture in order to reload the weight-only checkpoint files.\n",
    "\n",
    "Without using a callback, we can also directly call `tf.keras.Model.save_weights` method to save the current model weights.\n",
    "\n",
    "#### Saving Full Model as `SavedModel` Directory\n",
    "\n",
    "Using the same approach above we can also choose to store the entire model structure along with the weights by simply setting `save_weights_only=False`.\n",
    "The resulting model directory structure will be a little bit different.\n",
    "\n",
    "The `.pb` model is a TensorFlow `SavedModel` object, with its own special internal format."
   ]
  },
  {
   "cell_type": "code",
   "execution_count": null,
   "metadata": {},
   "outputs": [],
   "source": [
    "model_test_dir = os.path.join(\"models\", \"save_experiments\", \"saved_model\")\n",
    "\n",
    "cp_callback = tf.keras.callbacks.ModelCheckpoint(\n",
    "    model_test_dir, save_weights_only=False,\n",
    "    load_weights_on_restart=True, verbose=1)\n",
    "\n",
    "model_test = create_baseline_model(\"save_test\", loss_fn=weighted_hamming_loss, feat_cols=feat_col_x)\n",
    "model_test.fit(train_dataset, validation_data=valid_dataset,\n",
    "               epochs=1, steps_per_epoch=10, validation_steps=10,\n",
    "               callbacks=[cp_callback], verbose=0)"
   ]
  },
  {
   "cell_type": "code",
   "execution_count": null,
   "metadata": {},
   "outputs": [],
   "source": [
    "%%bash\n",
    "ls -lR models/save_experiments/pb"
   ]
  },
  {
   "cell_type": "markdown",
   "metadata": {},
   "source": [
    "We can also use `tf.keras.Model.save` with `save_format=\"tf\"` to save a model in `SavedModel` format.\n",
    "So the following line\n",
    "\n",
    "```py\n",
    "model_test.save(os.path.join(\"models\", \"save_experiments\", \"saved_model\"), save_format=\"tf\")\n",
    "```\n",
    "\n",
    "will result in exactly the same output model diorectory as in the previous callback function.\n",
    "\n",
    "#### Saving Full Model as `.h5` File\n",
    "\n",
    "Unlike `SavedModel` is a directory, we can save the model as one single file.\n",
    "This can be done by using `tf.keras.Model.save` with `save_format=\"h5\"` option:\n",
    "\n",
    "```py\n",
    "model_test.save(os.path.join(\"models\", \"save_experiments\", \"saved_model.h5\"), save_format=\"h5\")\n",
    "```"
   ]
  },
  {
   "cell_type": "markdown",
   "metadata": {},
   "source": [
    "## Model Deployment and Servicing\n",
    "\n",
    "For model deployment we will use `gcloud ai-platform` command line tool.\n",
    "We will need to package our code into a simple python modules in order to launch the model training on cloud.\n",
    "\n",
    "### Video Feature Extraction\n",
    "\n",
    "Before we implement the model serving, we need to also imeplement a video processor to extract features from a raw `.mp4` file.\n",
    "This is for us to do model inference on unseen examples.\n",
    "Let's have a basic walk-through of how the video is processed in the [starter code](https://github.com/google/youtube-8m/tree/master/feature_extractor):"
   ]
  },
  {
   "cell_type": "code",
   "execution_count": null,
   "metadata": {},
   "outputs": [],
   "source": [
    "import cv2\n",
    "from app.feature_extractor import feature_extractor\n",
    "# Reference: https://github.com/google/youtube-8m/tree/master/feature_extractor\n",
    "# Note that the original module only works for TF 1.x but not 2.0,\n",
    "# we need to modify the script specifically for tf.GraphDef, tf.Graph, and tf.Session to be\n",
    "# tf.compat.v1.GraphDef tf.compat.v1.Graph and tf.compat.v1.Session, respectively.\n",
    "\n",
    "CAP_PROP_POS_MSEC = 0\n",
    "\n",
    "def frame_iterator(filename, every_ms=1000, max_num_frames=300):\n",
    "    video_capture = cv2.VideoCapture()\n",
    "    if not video_capture.open(filename):\n",
    "        print >> sys.stderr, \"Error: Cannot open video file \"\" + filename\n",
    "        return\n",
    "    last_ts = -99999  # The timestamp of last retrieved frame.\n",
    "    num_retrieved = 0\n",
    "    while num_retrieved < max_num_frames:\n",
    "        # Skip frames\n",
    "        while video_capture.get(CAP_PROP_POS_MSEC) < every_ms + last_ts:\n",
    "            if not video_capture.read()[0]:\n",
    "                return\n",
    "        last_ts = video_capture.get(CAP_PROP_POS_MSEC)\n",
    "        has_frames, frame = video_capture.read()\n",
    "        if not has_frames:\n",
    "            break\n",
    "        yield frame\n",
    "        num_retrieved += 1\n",
    "\n",
    "# Pre-trained ImageNet Inception model and PCA matrices will be downloaded if not found.\n",
    "extractor = feature_extractor.YouTube8MFeatureExtractor(\"app/models\")"
   ]
  },
  {
   "cell_type": "code",
   "execution_count": null,
   "metadata": {},
   "outputs": [],
   "source": [
    "video_file = \"data/Dx_fKPBPYUI.mp4\"  # A test sample.\n",
    "\n",
    "rgb_features = []\n",
    "sum_rgb_features = None\n",
    "fiter = frame_iterator(video_file, every_ms=1000.0)\n",
    "# Take just one frame.\n",
    "next(fiter)\n",
    "rgb = next(fiter)\n",
    "\n",
    "features = extractor.extract_rgb_frame_features(rgb[:, :, ::-1])"
   ]
  },
  {
   "cell_type": "code",
   "execution_count": null,
   "metadata": {},
   "outputs": [],
   "source": [
    "%matplotlib inline\n",
    "import matplotlib.pyplot as plt\n",
    "\n",
    "# Plot the extracted frame.\n",
    "f = plt.imshow(rgb)"
   ]
  },
  {
   "cell_type": "code",
   "execution_count": null,
   "metadata": {},
   "outputs": [],
   "source": [
    "# The embeddings generated by the pre-trained Inception model on the above frame.\n",
    "print(features.shape)\n",
    "print(features)"
   ]
  },
  {
   "cell_type": "markdown",
   "metadata": {},
   "source": [
    "### Using Google Cloud AI Platform \n",
    "\n",
    "We can package our model as a python module in a way compatible with `gcloud ai-platform`.\n",
    "By using `gcloud ai-platform` as the interface we can easily launch the model training job on Google Cloud for large scale distributed training without any change of our code base.\n",
    "\n",
    "The following code cells will write necessary python scripts as module, wrapping up all the codes in previous sections together.\n",
    "Specifically, we need a `task.py` as the entrypoint for `gcloud ai-platform` to interface with our module.\n",
    "If we'd like to use the hyper-parameter tuning service in Google Cloud, we need to make sure the hyper-parameters are part of the `task.py` command line arguments.\n",
    "For this project for simplicity we are not going to do that."
   ]
  },
  {
   "cell_type": "code",
   "execution_count": null,
   "metadata": {},
   "outputs": [],
   "source": [
    "%%bash\n",
    "# Create python module directory.\n",
    "mkdir -p src\n",
    "touch src/__init__.py"
   ]
  },
  {
   "cell_type": "code",
   "execution_count": null,
   "metadata": {},
   "outputs": [],
   "source": [
    "%%writefile src/eval_metrics.py\n",
    "\"\"\"Custom eval metrics for YouTube-8M model.\"\"\"\n",
    "\n",
    "import tensorflow as tf\n",
    "from tensorflow.python.ops import init_ops\n",
    "\n",
    "\n",
    "class AverageNClass(tf.keras.metrics.Metric):\n",
    "\n",
    "    def __init__(self, name=\"average_n_class\", **kwargs):\n",
    "        super(tf.keras.metrics.Metric, self).__init__(name=name, **kwargs)\n",
    "        self.n_example = self.add_weight(\n",
    "            \"n_example\",\n",
    "            shape=(),\n",
    "            dtype=tf.float32,\n",
    "            initializer=init_ops.zeros_initializer)\n",
    "        self.n_predicted_class = self.add_weight(\n",
    "            \"n_predicted_class\",\n",
    "            shape=(),\n",
    "            dtype=tf.float32,\n",
    "            initializer=init_ops.zeros_initializer)\n",
    "\n",
    "    def update_state(self, y_true, y_pred, **kwargs):\n",
    "        # Accumulate sample size.\n",
    "        batch_size = tf.cast(len(y_true), tf.float32)\n",
    "        self.n_example.assign_add(batch_size)\n",
    "        # Accumulate number of predicted classes.\n",
    "        batch_n_class = tf.reduce_sum(tf.cast(y_pred > .5, tf.float32))\n",
    "        self.n_predicted_class.assign_add(batch_n_class)\n",
    "\n",
    "    def result(self):\n",
    "        return self.n_predicted_class / self.n_example\n",
    "\n",
    "\n",
    "class HitAtOne(tf.keras.metrics.Metric):\n",
    "\n",
    "    def __init__(self, name=\"hit_at_one\", **kwargs):\n",
    "        super(tf.keras.metrics.Metric, self).__init__(name=name, **kwargs)\n",
    "        self.n_example = self.add_weight(\n",
    "            \"n_example\",\n",
    "            shape=(),\n",
    "            dtype=tf.float32,\n",
    "            initializer=init_ops.zeros_initializer)\n",
    "        self.hit_at_one = self.add_weight(\n",
    "            \"hit_at_one\",\n",
    "            shape=(),\n",
    "            dtype=tf.float32,\n",
    "            initializer=init_ops.zeros_initializer)\n",
    "\n",
    "    def update_state(self, y_true, y_pred, **kwargs):\n",
    "        # Accumulate sample size.\n",
    "        batch_size = tf.cast(len(y_true), tf.float32)\n",
    "        self.n_example.assign_add(batch_size)\n",
    "        # Count number of hit@one.\n",
    "        tops = tf.math.argmax(y_pred, axis=1, output_type=tf.int32)\n",
    "        top_idx = tf.stack([tf.range(len(y_true)), tops], axis=1)\n",
    "        hits = tf.gather_nd(y_true, indices=top_idx)\n",
    "        self.hit_at_one.assign_add(tf.reduce_sum(hits))\n",
    "\n",
    "    def result(self):\n",
    "        return self.hit_at_one / self.n_example"
   ]
  },
  {
   "cell_type": "code",
   "execution_count": null,
   "metadata": {},
   "outputs": [],
   "source": [
    "%%writefile src/model.py\n",
    "\"\"\"Video classification model on YouTube-8M dataset.\"\"\"\n",
    "\n",
    "import os\n",
    "import logging\n",
    "from functools import partial\n",
    "\n",
    "import pandas as pd\n",
    "import numpy as np\n",
    "import tensorflow as tf\n",
    "from tensorflow import feature_column as fc\n",
    "from tensorflow.python.lib.io import file_io\n",
    "from tensorflow.python.ops import init_ops\n",
    "from .eval_metrics import AverageNClass, HitAtOne\n",
    "\n",
    "\n",
    "N_CLASS = 3862\n",
    "BATCH_SIZE = 1024\n",
    "VOCAB_FILE = \"data/vocabulary.csv\"\n",
    "# Exclude audio feature since we didn't implement audio feature extraction.\n",
    "# Even if the model can be trained on audio feature,\n",
    "# they won't be available for inference on new video.\n",
    "FEAT_COL_VIDEO = [\n",
    "    fc.numeric_column(key=\"mean_rgb\", shape=(1024,), dtype=tf.float32),\n",
    "    #fc.numeric_column(key=\"mean_audio\", shape=(128,), dtype=tf.float32),\n",
    "    fc.indicator_column(fc.categorical_column_with_identity(key=\"labels\", num_buckets=N_CLASS))\n",
    "]\n",
    "FEAT_X = [\"mean_rgb\"]\n",
    "FEAT_SPEC_VIDEO = fc.make_parse_example_spec(FEAT_COL_VIDEO)\n",
    "MULTI_HOT_ENCODER = tf.keras.layers.DenseFeatures(FEAT_COL_VIDEO[-1])\n",
    "# If we'd like to use a custom serving input function, we need to use the estimator API.\n",
    "# There is no document on how a keras model can use a custom serving input function.\n",
    "KERAS_TO_ESTIMATOR = True\n",
    "\n",
    "\n",
    "def calc_class_weight(infile, scale=1):\n",
    "    \"\"\"Calculate class weight to re-balance label distribution.\n",
    "    The class weight for class i (w_i) is determined by:\n",
    "    w_i = total no. samples / (n_class * count(class i))\n",
    "    \"\"\"\n",
    "    if infile.startswith(\"gs://\"):\n",
    "        with file_io.FileIO(infile, \"r\") as f:\n",
    "            vocab = pd.read_csv(f)\n",
    "    else:\n",
    "        vocab = pd.read_csv(infile)\n",
    "    vocab.sort_values(\"Index\", inplace=True)\n",
    "    cnt = vocab[\"TrainVideoCount\"]\n",
    "    w = cnt.sum() / (len(vocab) * cnt)\n",
    "    w = w.values.astype(np.float32)\n",
    "    return pow(w, scale)\n",
    "\n",
    "\n",
    "def _parse(examples, spec, batch_size, n_class):\n",
    "    features = tf.io.parse_example(examples, features=spec)\n",
    "    labels = features.pop(\"labels\")\n",
    "    labels = MULTI_HOT_ENCODER({\"labels\": labels})\n",
    "    return features, labels\n",
    "\n",
    "\n",
    "def input_fn(infiles, spec, mode=tf.estimator.ModeKeys.TRAIN):\n",
    "    dataset = tf.data.TFRecordDataset(tf.io.gfile.glob(infiles))\n",
    "    if mode == tf.estimator.ModeKeys.TRAIN:\n",
    "        dataset = dataset.shuffle(buffer_size=1000).repeat(count=None).batch(BATCH_SIZE, drop_remainder=True)\n",
    "    else:\n",
    "        dataset = dataset.batch(BATCH_SIZE, drop_remainder=False)\n",
    "    dataset = dataset.map(partial(_parse, spec=spec, batch_size=BATCH_SIZE, n_class=N_CLASS))\n",
    "    dataset = dataset.prefetch(BATCH_SIZE)\n",
    "    return dataset\n",
    "\n",
    "\n",
    "def serving_input_receiver_fn():\n",
    "    \"\"\"Parse seralized tfrecord string for online inference.\"\"\"\n",
    "    # Accept a list of serialized tfrecord string.\n",
    "    example_bytestring = tf.compat.v1.placeholder(shape=[None], dtype=tf.string)\n",
    "    # Parse them into feature tensors.\n",
    "    features = tf.io.parse_example(example_bytestring, FEAT_SPEC_VIDEO)\n",
    "    features.pop(\"labels\")  # Dummy label. Not important at all.\n",
    "    return tf.estimator.export.ServingInputReceiver(features, {\"examples_bytes\": example_bytestring})\n",
    "\n",
    "\n",
    "class BaseModel:\n",
    "\n",
    "    def __init__(self, params):\n",
    "        self.params = params\n",
    "        config = tf.estimator.RunConfig(\n",
    "            tf_random_seed=777,\n",
    "            save_checkpoints_steps=max(1000, params[\"train_steps\"] // 10),\n",
    "            model_dir=params[\"model_dir\"]\n",
    "        )\n",
    "        self.class_weights = calc_class_weight(VOCAB_FILE, scale=1)\n",
    "        self.serving_input_receiver_fn = serving_input_receiver_fn\n",
    "        if KERAS_TO_ESTIMATOR:\n",
    "            self.estimator = tf.keras.estimator.model_to_estimator(keras_model=self.model_fn(), config=config)\n",
    "        else:\n",
    "            self.estimator = self.model_fn()\n",
    "\n",
    "    def model_fn(self):\n",
    "\n",
    "        def hamming_loss(y_true, y_pred):\n",
    "            loss = tf.keras.backend.binary_crossentropy(y_true, y_pred, from_logits=False)\n",
    "            if self.params[\"weighted_loss\"]:\n",
    "                loss *= self.class_weights\n",
    "            return tf.reduce_mean(tf.reduce_sum(loss, axis=1))\n",
    "\n",
    "        FEAT_COL_X = [col for col in FEAT_COL_VIDEO if col.name in FEAT_X]\n",
    "        l2_reg = tf.keras.regularizers.l2(1e-8)\n",
    "        if KERAS_TO_ESTIMATOR:\n",
    "            # DenseFeatures doesn't play well with Estimator.\n",
    "            inputs = tf.keras.layers.Input(shape=(1024,), name=\"mean_rgb\")\n",
    "            predictions = tf.keras.layers.Dense(N_CLASS, activation=\"sigmoid\", kernel_regularizer=l2_reg)(inputs)\n",
    "            model = tf.keras.Model(inputs=inputs, outputs=predictions, name=\"baseline\")\n",
    "        else :\n",
    "            model = tf.keras.models.Sequential(name=\"baseline\")\n",
    "            model.add(tf.keras.layers.DenseFeatures(FEAT_COL_X, name=\"mean_rgb\"))\n",
    "            model.add(tf.keras.layers.Dense(N_CLASS, activation=\"sigmoid\", kernel_regularizer=l2_reg))\n",
    "        model.compile(\n",
    "            optimizer=\"adam\",\n",
    "            loss=hamming_loss,\n",
    "            metrics=[\n",
    "                tf.keras.metrics.Precision(),\n",
    "                tf.keras.metrics.Recall(),\n",
    "                AverageNClass(),\n",
    "                HitAtOne()\n",
    "            ]\n",
    "        )\n",
    "        return model\n",
    "\n",
    "    def train_and_evaluate(self, params):\n",
    "        if KERAS_TO_ESTIMATOR:\n",
    "            # This is much slower than the native keras model fit under TF 2.0.\n",
    "            train_spec = tf.estimator.TrainSpec(\n",
    "                input_fn=lambda: input_fn(params[\"train_data_path\"], spec=FEAT_SPEC_VIDEO),\n",
    "                max_steps=params[\"train_steps\"]\n",
    "            )\n",
    "            exporter = tf.estimator.FinalExporter(\n",
    "                name=\"exporter\", serving_input_receiver_fn=serving_input_receiver_fn)\n",
    "            eval_spec = tf.estimator.EvalSpec(\n",
    "                input_fn=lambda: input_fn(params[\"eval_data_path\"], spec=FEAT_SPEC_VIDEO,\n",
    "                                          mode=tf.estimator.ModeKeys.EVAL),\n",
    "                steps=100,\n",
    "                start_delay_secs=60,\n",
    "                throttle_secs=1,\n",
    "                exporters=exporter\n",
    "            )\n",
    "            logging.getLogger(\"tensorflow\").setLevel(logging.INFO)\n",
    "            tf.estimator.train_and_evaluate(\n",
    "                estimator=self.estimator,\n",
    "                train_spec=train_spec,\n",
    "                eval_spec=eval_spec\n",
    "            )\n",
    "        else:\n",
    "            model_dir = os.path.join(\".\", params[\"model_dir\"])\n",
    "            train_dataset = input_fn(params[\"train_data_path\"], spec=FEAT_SPEC_VIDEO)\n",
    "            valid_dataset = input_fn(params[\"eval_data_path\"], spec=FEAT_SPEC_VIDEO,\n",
    "                                     mode=tf.estimator.ModeKeys.EVAL)\n",
    "            tb_callback = tf.keras.callbacks.TensorBoard(log_dir=model_dir)\n",
    "            self.estimator.fit(\n",
    "                train_dataset, validation_data=valid_dataset,\n",
    "                epochs=params[\"train_epochs\"], steps_per_epoch=params[\"train_steps\"],\n",
    "                validation_steps=100,\n",
    "                callbacks=[tb_callback])\n",
    "            self.estimator.save(model_dir, save_format=\"tf\")"
   ]
  },
  {
   "cell_type": "code",
   "execution_count": null,
   "metadata": {},
   "outputs": [],
   "source": [
    "%%writefile src/task.py\n",
    "\"\"\"Model interface for gcloud ai-platform.\"\"\"\n",
    "\n",
    "import argparse\n",
    "import json\n",
    "import os\n",
    "\n",
    "from . import model\n",
    "\n",
    "if __name__ == \"__main__\":\n",
    "    parser = argparse.ArgumentParser()\n",
    "    parser.add_argument(\n",
    "        \"--train_data_path\",\n",
    "        help=\"GCS or local path to training data\",\n",
    "        required = True\n",
    "    )\n",
    "    parser.add_argument(\n",
    "        \"--train_steps\",\n",
    "        help=\"Steps to run the training job for (default: 1000)\",\n",
    "        type=int,\n",
    "        default=1000\n",
    "    )\n",
    "    parser.add_argument(\n",
    "        \"--train_epochs\",\n",
    "        help=\"Epochss to run the training job for (default: 1)\",\n",
    "        type=int,\n",
    "        default=1\n",
    "    )\n",
    "    parser.add_argument(\n",
    "        \"--eval_data_path\",\n",
    "        help=\"GCS or local path to evaluation data\",\n",
    "        required= True\n",
    "    )\n",
    "    parser.add_argument(\n",
    "        \"--model_dir\",\n",
    "        help=\"GCS location to write checkpoints and export models\",\n",
    "        required=True\n",
    "    )\n",
    "    parser.add_argument(\n",
    "        \"--weighted_loss\",\n",
    "        help = \"Use class weights in loss?\",\n",
    "        required=False,\n",
    "        default=True\n",
    "    )\n",
    "    parser.add_argument(\n",
    "        \"--job-dir\",\n",
    "        help=\"This is not used by our model, but it is required by gcloud\",\n",
    "    )\n",
    "    args = parser.parse_args().__dict__\n",
    "\n",
    "    # Append trial_id to path so trials don\"t overwrite each other\n",
    "    args[\"model_dir\"] = os.path.join(\n",
    "        args[\"model_dir\"],\n",
    "        json.loads(\n",
    "            os.environ.get(\"TF_CONFIG\", \"{}\")\n",
    "        ).get(\"task\", {}).get(\"trial\", \"\")\n",
    "    )\n",
    "\n",
    "    # Run the training job\n",
    "    yt8m_model = model.BaseModel(args)\n",
    "    yt8m_model.train_and_evaluate(args)"
   ]
  },
  {
   "cell_type": "markdown",
   "metadata": {},
   "source": [
    "After we modualize our model, a local trainning job can be triggered by using `gcloud ai-platform` command line:\n",
    "For example:\n",
    "\n",
    "```bash\n",
    "rm -r local_debug_model\n",
    "gcloud ai-platform local train \\\n",
    "    --package-path=src \\\n",
    "    --module-name=src.task \\\n",
    "    -- \\\n",
    "    --train_data_path=data/video/train* \\\n",
    "    --eval_data_path=data/video/valid* \\\n",
    "    --train_steps=3000 \\\n",
    "    --train_epochs=10 \\\n",
    "    --model_dir=models/baseline\n",
    "```\n",
    "\n",
    "To train the model on cloud, we can upload the training data to GCS then run instead something like:\n",
    "\n",
    "```bash\n",
    "gcloud ai-platform jobs submit training yt8m_$(date -u +%y%m%d_%H%M%S) \\\n",
    "    --package-path=src \\\n",
    "    --module-name=src.task \\\n",
    "    --job-dir=gs://${BUCKET}/yt8m \\\n",
    "    --python-version=3.5 \\\n",
    "    --runtime-version=${TFVERSION} \\\n",
    "    --region=us-central1 \\\n",
    "    -- \\\n",
    "    --train_data_path=gs://${BUCKET}/yt8m/data/video/train* \\\n",
    "    --eval_data_path=gs://${BUCKET}/yt8m/data/video/valid*  \\\n",
    "    --train_steps=30000 \\\n",
    "    --output_dir=gs://${BUCKET}/yt8m/models\n",
    "```\n",
    "\n",
    "The followings are tensorboard scalar tracing plots for our local training job."
   ]
  },
  {
   "cell_type": "markdown",
   "metadata": {},
   "source": [
    "Training Loss:\n",
    "\n",
    "<img src=\"assets/train_loss.svg\" align=\"left\" width=480>"
   ]
  },
  {
   "cell_type": "markdown",
   "metadata": {},
   "source": [
    "Eval Loss:\n",
    "\n",
    "<img src=\"assets/eval_loss.svg\" align=\"left\" width=480>"
   ]
  },
  {
   "cell_type": "markdown",
   "metadata": {},
   "source": [
    "Eval Precision:\n",
    "\n",
    "<img src=\"assets/precision.svg\" align=\"left\" width=480>"
   ]
  },
  {
   "cell_type": "markdown",
   "metadata": {},
   "source": [
    "Eval Recall:\n",
    "\n",
    "<img src=\"assets/recall.svg\" align=\"left\" width=480>"
   ]
  },
  {
   "cell_type": "markdown",
   "metadata": {},
   "source": [
    "Eval Hit@One:\n",
    "\n",
    "<img src=\"assets/hit_at_one.svg\" align=\"left\" width=480>"
   ]
  },
  {
   "cell_type": "markdown",
   "metadata": {},
   "source": [
    "Eval Average Number of Predicted Classes:\n",
    "\n",
    "<img src=\"assets/average_n_class.svg\" align=\"left\" width=480>"
   ]
  },
  {
   "cell_type": "markdown",
   "metadata": {},
   "source": [
    "### AI Platform Prediction Service\n",
    "\n",
    "To deploy a pre-trained model we first need to upload the model directory to GCS.\n",
    "This can be done by for example:\n",
    "\n",
    "```bash\n",
    "MODEL_DIR=\"models/baseline\"\n",
    "\n",
    "gsutil -m rm -rf gs://${BUCKET}/yt8m/models\n",
    "gsutil -m cp -r ${MODEL_DIR} gs://${BUCKET}/yt8m/models\n",
    "```\n",
    "\n",
    "Then to create a model for online prediction:\n",
    "\n",
    "```bash\n",
    "VERSION=\"v1\"\n",
    "TFVERSION=\"1.14\"\n",
    "MODEL_NAME=\"yt8m_video\"\n",
    "MODEL_DIR=local_debug_model\n",
    "\n",
    "# Create ai-platform cloud model.\n",
    "gcloud ai-platform models create ${MODEL_NAME} --regions us-central1\n",
    "\n",
    "# Remove previous version.\n",
    "gcloud ai-platform versions delete ${VERSION} --model ${MODEL_NAME} --quiet\n",
    "\n",
    "# Deploy.\n",
    "gcloud ai-platform versions create ${VERSION} --model ${MODEL_NAME} \\\n",
    "    --origin $(gsutil ls gs://${BUCKET}/yt8m/models/export/exporter | tail -1) \\\n",
    "    --python-version=3.5 \\\n",
    "    --runtime-version ${TFVERSION}\n",
    "```\n",
    "\n",
    "Note that as of now (July 2019) AI Platform runtime doesn't support TF 2.0 yet.\n",
    "But our code is backward-compatible with 1.14."
   ]
  },
  {
   "cell_type": "markdown",
   "metadata": {},
   "source": [
    "## Online Prediction with a Wep App\n",
    "\n",
    "We develop a web service using [Flask](https://palletsprojects.com/p/flask/) to receive user request about a YouTube video share link for online label(s) prediction.\n",
    "Also we will use [socket.io](https://socket.io/) to implement asynchronous processing to improve user experience. (It takes time to process a raw video without using a dedicated server.)\n",
    "Also we will use [youtube-dl](https://github.com/ytdl-org/youtube-dl) as the YouTube video downloader to download the requested video in `.mp4` format.\n",
    "For video feature extraction we directly utilize the open source [starter code](https://github.com/google/youtube-8m/tree/master/feature_extractor) from Google Research.\n",
    "\n",
    "The overall architecture of our application will look like this:\n",
    "\n",
    "<img src=\"assets/app_arch_demo.svg\">\n",
    "\n",
    "To simplify things (in a one-week window) the web server is also doing video feature extraction which is a heavy task since it involves in loading a pre-trained Inception model and making inference through the graph.\n",
    "\n",
    "The ideal architecture should be something like:\n",
    "\n",
    "<img src=\"assets/app_arch_ideal.svg\">"
   ]
  },
  {
   "cell_type": "code",
   "execution_count": null,
   "metadata": {},
   "outputs": [],
   "source": [
    "%%bash\n",
    "# Create directories for our flask app.\n",
    "mkdir -p app\n",
    "mkdir -p app/templates\n",
    "mkdir -p app/static\n",
    "mkdir -p app/assets"
   ]
  },
  {
   "cell_type": "markdown",
   "metadata": {},
   "source": [
    "### Server-Side Coding\n",
    "\n",
    "The web server needs to do a series of task given a user request:\n",
    "\n",
    "1. Download the requested video\n",
    "2. Process the video to extract features in tfrecord\n",
    "3. Parse the tfrecord back and package it in base64, send it to the online predictor\n",
    "4. Receive prediction result and tidy it up, then send it to the front-end\n",
    "\n",
    "Ideally we should by-pass the writing of tfrecord and direectly package the serialized string in-memory.\n",
    "But since we utilize the starter code in feature extractor without changing anything, this is the extra effort needed to be done.\n",
    "\n",
    "Here is the main script for the server:"
   ]
  },
  {
   "cell_type": "code",
   "execution_count": null,
   "metadata": {},
   "outputs": [],
   "source": [
    "%%writefile app/main.py\n",
    "\"\"\"Run Flask app for YouTube-8M model demo.\"\"\"\n",
    "\n",
    "import os\n",
    "import sys\n",
    "import shutil\n",
    "import tempfile\n",
    "import subprocess\n",
    "import base64\n",
    "\n",
    "from flask import Flask, render_template, request\n",
    "from flask_socketio import SocketIO, emit\n",
    "import googleapiclient.discovery\n",
    "import tensorflow as tf\n",
    "import numpy as np\n",
    "\n",
    "\n",
    "app = Flask(__name__)\n",
    "socketio = SocketIO(app)\n",
    "\n",
    "PROJECT = os.environ[\"PROJECT\"]  # Name of gcloud project.\n",
    "MODEL = \"yt8m_video\"  # Name of the deployed ai-platform model.\n",
    "LABEL_VOCAB_FILE = \"../data/vocabulary.csv\"\n",
    "VIDEO_DIR = \"test_videos\"\n",
    "TFREC_DIR = \"test_tfrecords\"\n",
    "YT_DL = \"bin/youtube-dl\"\n",
    "FT_EXTRACTOR = \"feature_extractor/extract_tfrecords_main.py\"\n",
    "\n",
    "\n",
    "def read_label_vocab(infile=LABEL_VOCAB_FILE):\n",
    "    with open(infile, \"rt\") as f:\n",
    "        raw_vocab = [l.strip(\"\\n\") for l in f.readlines()]\n",
    "    header = raw_vocab[0].split(\",\")\n",
    "    index_pos = header.index(\"Index\")\n",
    "    label_pos = header.index(\"Name\")\n",
    "    vocab = {}\n",
    "    for line in raw_vocab[1:]:\n",
    "        line = line.split(\",\")\n",
    "        vocab[int(line[index_pos])] = line[label_pos]\n",
    "    return vocab\n",
    "\n",
    "\n",
    "def predict_json(instances, project=PROJECT, model=MODEL, version=None):\n",
    "    # To authenticate set the environment variable\n",
    "    # GOOGLE_APPLICATION_CREDENTIALS=<path_to_service_account_file>\n",
    "    service = googleapiclient.discovery.build(\"ml\", \"v1\")\n",
    "    name = \"projects/{}/models/{}\".format(project, model)\n",
    "    if version is not None:\n",
    "        name += \"/versions/{}\".format(version)\n",
    "    response = service.projects().predict(\n",
    "        name=name,\n",
    "        body={\"instances\": instances}\n",
    "    ).execute()\n",
    "    if \"error\" in response:\n",
    "        raise RuntimeError(response[\"error\"])\n",
    "    return response[\"predictions\"][0]\n",
    "\n",
    "\n",
    "def parse_tfrecord(tfrec_file):\n",
    "    \"\"\"Encode tfrecord serialized string in base64.\"\"\"\n",
    "    rec_iter = tf.io.tf_record_iterator(tfrec_file)\n",
    "    body = {\"b64\": base64.b64encode(next(rec_iter)).decode(\"utf-8\")}\n",
    "    return body\n",
    "\n",
    "\n",
    "def video_to_tfrecord(video_file):\n",
    "    video_tag = os.path.basename(video_file).split(\".\")[0]\n",
    "    tmpcsv, tmpcsv_name = tempfile.mkstemp()\n",
    "    tmprec, tmprec_name = tempfile.mkstemp()\n",
    "    with open(tmpcsv_name, \"wt\") as f:\n",
    "        f.write(\"{},0\\n\".format(video_file))\n",
    "    p = subprocess.Popen([\n",
    "        \"python\", FT_EXTRACTOR,\n",
    "        \"--input_videos_csv\", tmpcsv_name,\n",
    "        \"--output_tfrecords_file\", tmprec_name,\n",
    "        \"--skip_frame_level_features\", \"false\"\n",
    "        ], stdout=sys.stdout)    \n",
    "    out, err = p.communicate()\n",
    "    return tmprec_name\n",
    "\n",
    "\n",
    "def download_yt(video_link, outdir=VIDEO_DIR):\n",
    "    \"\"\"Use youtube-dl to download a youtube video.\n",
    "    https://github.com/ytdl-org/youtube-dl\n",
    "    \"\"\"\n",
    "    video_tag = os.path.basename(video_link)\n",
    "    outfile = os.path.join(outdir, \"{}.mp4\".format(video_tag))\n",
    "    p = subprocess.Popen([\n",
    "        YT_DL, video_link,\n",
    "        \"-o\", outfile,\n",
    "        \"-k\",\n",
    "        \"-f\", \"mp4\"\n",
    "        ], stdout=sys.stdout)    \n",
    "    out, err = p.communicate()\n",
    "    return outfile\n",
    "\n",
    "\n",
    "def inspect_tfrec(tfrec_file, is_sequence=False):\n",
    "    \"\"\"Print a tfrecord file content.\"\"\"\n",
    "    record_iter = tf.io.tf_record_iterator(tfrec_file)\n",
    "    if is_sequence:\n",
    "        example = tf.train.SequenceExample()\n",
    "        example.ParseFromString(next(record_iter))\n",
    "    else:\n",
    "        example = tf.train.Example()\n",
    "        example.ParseFromString(next(record_iter))\n",
    "    return example\n",
    "\n",
    "\n",
    "vocab = read_label_vocab()\n",
    "\n",
    "\n",
    "@socketio.on(\"predict_request\", namespace=\"\")\n",
    "def start_predict_pipeline(message):\n",
    "    # Form iframe to autoplay the requested youtube video.\n",
    "    video_link = message[\"link\"]\n",
    "    video_tag = os.path.basename(video_link)\n",
    "    emit(\"video_response\", {\"tag\": video_tag})\n",
    "\n",
    "    # Do prediction.\n",
    "    # Check if the video is already processed before.\n",
    "    tfrec_file = os.path.join(TFREC_DIR, \"{}.tfrecord\".format(video_tag))\n",
    "    if not os.path.exists(tfrec_file):\n",
    "        # Download the youtube video as mp4.\n",
    "        emit(\"status_update\", {\"status\": \"Start Downloading video...\"})\n",
    "        video_file = download_yt(video_link)\n",
    "        if os.path.exists(video_file):\n",
    "            emit(\"status_update\", {\"status\": \"Download completed.\"})\n",
    "        else:\n",
    "            emit(\"status_update\", {\"status\": \"Invalid link!\"})\n",
    "            return\n",
    "        # Convert mp4 to tfrecord.\n",
    "        emit(\"status_update\", {\"status\": \"Extracting video embeddings...\"})\n",
    "        tmp_tfrec_file = video_to_tfrecord(video_file)\n",
    "        shutil.move(tmp_tfrec_file, tfrec_file)\n",
    "        emit(\"status_update\", {\"status\": \"Feature extraction completed.\"})\n",
    "    # Request online prediction service.\n",
    "    emit(\"status_update\", {\"status\": \"Request online predictions...\"})\n",
    "    request_data = parse_tfrecord(tfrec_file)\n",
    "    responses = predict_json(request_data)\n",
    "    emit(\"status_update\", {\"status\": \"All done!\"})\n",
    "    # Tidy predictions.\n",
    "    predictions = {}\n",
    "    proba = np.array(responses[\"activation\"])\n",
    "    top_k_pos = proba.argsort()[-10:][::-1]\n",
    "    predictions[\"top_k\"] = [\"{}: {:.2%}\".format(vocab[c], p) for c, p in \n",
    "        zip(top_k_pos, proba[top_k_pos])]\n",
    "    predictions[\"n_class\"] = str((proba > .5).sum())\n",
    "    emit(\"predict_response\", predictions)\n",
    "\n",
    "\n",
    "@app.route(\"/\", methods=[\"GET\", \"POST\"])\n",
    "def root():\n",
    "    return render_template(\"index.html\")\n",
    "\n",
    "\n",
    "if __name__ == \"__main__\":\n",
    "    # This is used when running locally only. When deploying to Google App\n",
    "    # Engine, a webserver process such as Gunicorn will serve the app. This\n",
    "    # can be configured by adding an `entrypoint` to app.yaml.\n",
    "    socketio.run(app,host=\"0.0.0.0\", port=8080, debug=True)"
   ]
  },
  {
   "cell_type": "markdown",
   "metadata": {},
   "source": [
    "### Client-Side Coding\n",
    "\n",
    "For the front-end we need to write some simple `jquery` to handle the asynchronous calls made by `socket.io`.\n",
    "We will update the page right-hand sidebar on each background task to inform the user what's going on.\n",
    "For a new video the processing time can easily exceed 1 minute which is definitely too long.\n",
    "If there is no response at the page a user may feel frustrated and just go away.\n",
    "\n",
    "The file `app/templates/index.html` is created as the following:"
   ]
  },
  {
   "cell_type": "markdown",
   "metadata": {
    "raw_mimetype": "text/markdown",
    "variables": {
     " url_for('static', filename='favicon.ico') ": {},
     " url_for('static', filename='jquery-3.4.1.min.js') ": {},
     " url_for('static', filename='socket.io-2.2.0.min.js') ": {},
     " url_for('static', filename='style.css') ": {}
    }
   },
   "source": [
    "```html\n",
    "<!doctype html>\n",
    "<head>\n",
    "    <meta charset=\"utf-8\">\n",
    "    <meta http-equiv=\"X-UA-Compatible\" content=\"IE=edge\">\n",
    "    <meta name=\"viewport\" content=\"width=device-width, initial-scale=1\">\n",
    "    \n",
    "    <title>YouTube-8M-Demo</title>\n",
    "\n",
    "    <link rel=\"shortcut icon\" href=\"{{ url_for('static', filename='favicon.ico') }}\">\n",
    "    <link rel=\"stylesheet\" href=\"{{ url_for('static', filename='style.css') }}\">\n",
    "\n",
    "    <script src=\"{{ url_for('static', filename='jquery-3.4.1.min.js') }}\"></script>\n",
    "    <script src=\"{{ url_for('static', filename='socket.io-2.2.0.min.js') }}\"></script>\n",
    "    <script type=\"text/javascript\" charset=\"utf-8\">\n",
    "        // Handle async web socket communication.\n",
    "        $(document).ready(function() {\n",
    "            namespace = \"\";\n",
    "            var socket = io(namespace);\n",
    "            // Send async request to server.\n",
    "            $(\"form#yt_link\").submit(function(event) {\n",
    "                socket.emit(\"predict_request\",  {link: $(\"#video_link\").val()});\n",
    "                return false;\n",
    "            });\n",
    "            // Receive async response from server.\n",
    "            socket.on(\"video_response\", function(msg, cb) {\n",
    "                var iframe = $(\"<iframe>\", {\n",
    "                   src: \"https://www.youtube.com/embed/\" + msg.tag + \"?autoplay=1\",\n",
    "                   frameborder: 0,\n",
    "                   style: \"position:absolute;top:0;left:0;width:100%;height:100%;\"\n",
    "                });\n",
    "                $(\"#video-frame\").html(iframe);\n",
    "                // Clear previous predictions, if any.\n",
    "                $(\"#predictions\").html(\"\");\n",
    "                if (cb)\n",
    "                    cb();\n",
    "            });\n",
    "            socket.on(\"predict_response\", function(msg, cb) {\n",
    "                var output = $(\"<ol>\");\n",
    "                output.append(\"<h2>Predictions</h2>\")\n",
    "                var cnt = 0;\n",
    "                $(msg.top_k).each(function(index, item) {\n",
    "                    cnt += 1;\n",
    "                    output.append(\n",
    "                        $(document.createElement(\"li\")).text(item)\n",
    "                    );\n",
    "                    if ( cnt == msg.n_class ) {\n",
    "                        output.append(\"---<br>\")\n",
    "                    }\n",
    "                });\n",
    "                output.append(\"---<br>\")\n",
    "                output.append(\"Total No. of Predicted Classes: \")\n",
    "                output.append(\"<h2>\" + msg.n_class + \"</h2>\")\n",
    "                $(\"#predictions\").html(output);\n",
    "                if (cb)\n",
    "                    cb();\n",
    "            });\n",
    "            socket.on(\"status_update\", function(msg, cb) {\n",
    "                $(\"#predictions\").append(\"<p>\" + msg.status + \"</p>\");\n",
    "                if (cb)\n",
    "                    cb();\n",
    "            });\n",
    "        });\n",
    "    </script>\n",
    "</head>\n",
    "\n",
    "<body>\n",
    "    <h1>Hello YouTube-8M!</h1>\n",
    "\n",
    "    <form id=\"yt_link\" method=\"post\" action=\"#\">\n",
    "        <input placeholder=\"Put a youtube video link here...\" \n",
    "               type=\"text\" name=\"video_link\" id=\"video_link\"\n",
    "               style=\"width:45%;margin:auto;\">\n",
    "    </form>\n",
    "\n",
    "    <section class=\"container\">\n",
    "        <div class=\"left-half\">\n",
    "            <div style=\"position:relative;padding-top:56.25%;\">\n",
    "                <div id=\"video-frame\"></div>\n",
    "            </div>\n",
    "        </div>\n",
    "        <div class=\"right-half\">\n",
    "            <div id=\"predictions\"></div>\n",
    "        </div>\n",
    "    </section>\n",
    "</body>\n",
    "```"
   ]
  },
  {
   "cell_type": "markdown",
   "metadata": {},
   "source": [
    "Finally, this is how the app looks like after a prediction:\n",
    "\n",
    "<img src=\"assets/demo.png\">\n",
    "\n",
    "It can handle virtually *any* public YouTube video.\n",
    "Its a pity that the label *Samurai Shodown* didn't come at the top, since the game in play is indeed *Samurai Shodown*. But it is a brand-new released series title just a month ago as this writeup, so definitely we don't have any video about it in our training dataset."
   ]
  },
  {
   "cell_type": "markdown",
   "metadata": {},
   "source": [
    "## Final Thoughts\n",
    "\n",
    "TensorFlow is evolving very fast.\n",
    "There are a variety of ways in both training and deploying a machine learning model using TF.\n",
    "Currently there is really lacking a sort of developing best-practice in this field, due to the constant changing in its API design.\n",
    "\n",
    "Some definitely directions to move forward, particularly for Keras integration:\n",
    "\n",
    "+ Better inter-operation between Keras model and TF estimator\n",
    "    + Right now the process is really buggy\n",
    "+ Better cloud prediction service deployment with Keras model\n",
    "+ A more unified (hence less confused) framework for model saving and prediction pipeline"
   ]
  }
 ],
 "metadata": {
  "celltoolbar": "Raw Cell Format",
  "kernelspec": {
   "display_name": "Python 3",
   "language": "python",
   "name": "python3"
  },
  "language_info": {
   "codemirror_mode": {
    "name": "ipython",
    "version": 3
   },
   "file_extension": ".py",
   "mimetype": "text/x-python",
   "name": "python",
   "nbconvert_exporter": "python",
   "pygments_lexer": "ipython3",
   "version": "3.6.2"
  },
  "toc": {
   "base_numbering": 1,
   "nav_menu": {
    "height": "386px",
    "width": "421px"
   },
   "number_sections": true,
   "sideBar": true,
   "skip_h1_title": false,
   "title_cell": "Table of Contents",
   "title_sidebar": "Contents",
   "toc_cell": false,
   "toc_position": {
    "height": "calc(100% - 180px)",
    "left": "10px",
    "top": "150px",
    "width": "340.355px"
   },
   "toc_section_display": true,
   "toc_window_display": true
  }
 },
 "nbformat": 4,
 "nbformat_minor": 2
}
